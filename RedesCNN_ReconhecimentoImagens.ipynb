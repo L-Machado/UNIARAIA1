{
  "nbformat": 4,
  "nbformat_minor": 0,
  "metadata": {
    "colab": {
      "provenance": [],
      "authorship_tag": "ABX9TyNC1NoWrmDk3NOcGwxHmLU8",
      "include_colab_link": true
    },
    "kernelspec": {
      "name": "python3",
      "display_name": "Python 3"
    },
    "language_info": {
      "name": "python"
    }
  },
  "cells": [
    {
      "cell_type": "markdown",
      "metadata": {
        "id": "view-in-github",
        "colab_type": "text"
      },
      "source": [
        "<a href=\"https://colab.research.google.com/github/L-Machado/UNIARAIA1/blob/main/RedesCNN_ReconhecimentoImagens.ipynb\" target=\"_parent\"><img src=\"https://colab.research.google.com/assets/colab-badge.svg\" alt=\"Open In Colab\"/></a>"
      ]
    },
    {
      "cell_type": "code",
      "execution_count": 2,
      "metadata": {
        "colab": {
          "base_uri": "https://localhost:8080/"
        },
        "id": "b7jBmCHT3Qio",
        "outputId": "e1c197ff-bd67-400a-a71f-dd2b54a2fd12"
      },
      "outputs": [
        {
          "output_type": "stream",
          "name": "stdout",
          "text": [
            "Epoch 1/5\n",
            "938/938 [==============================] - 59s 62ms/step - loss: 0.1749 - accuracy: 0.9486 - val_loss: 0.0445 - val_accuracy: 0.9856\n",
            "Epoch 2/5\n",
            "938/938 [==============================] - 58s 62ms/step - loss: 0.0507 - accuracy: 0.9847 - val_loss: 0.0410 - val_accuracy: 0.9859\n",
            "Epoch 3/5\n",
            "938/938 [==============================] - 61s 65ms/step - loss: 0.0342 - accuracy: 0.9890 - val_loss: 0.0366 - val_accuracy: 0.9876\n",
            "Epoch 4/5\n",
            "938/938 [==============================] - 66s 71ms/step - loss: 0.0279 - accuracy: 0.9910 - val_loss: 0.0282 - val_accuracy: 0.9904\n",
            "Epoch 5/5\n",
            "938/938 [==============================] - 60s 64ms/step - loss: 0.0225 - accuracy: 0.9926 - val_loss: 0.0294 - val_accuracy: 0.9903\n"
          ]
        },
        {
          "output_type": "execute_result",
          "data": {
            "text/plain": [
              "<keras.src.callbacks.History at 0x7bc012df8eb0>"
            ]
          },
          "metadata": {},
          "execution_count": 2
        }
      ],
      "source": [
        "import tensorflow as tf\n",
        "from tensorflow.keras import datasets, layers, models\n",
        "\n",
        "# Carregar o conjunto de dados MNIST (Imagens com Dados de 0 a 9)\n",
        "(train_images, train_labels), (test_images, test_labels) = datasets.mnist.load_data()\n",
        "\n",
        "# Normalizar os valores dos pixels para o intervalo [0, 1]\n",
        "train_images, test_images = train_images / 255.0, test_images / 255.0\n",
        "\n",
        "# Adicionar uma dimensão para os canais de cor (preto e branco neste caso)\n",
        "train_images = train_images.reshape((train_images.shape[0], 28, 28, 1))\n",
        "test_images = test_images.reshape((test_images.shape[0], 28, 28, 1))\n",
        "\n",
        "# Definir o modelo CNN\n",
        "model = models.Sequential([\n",
        "    layers.Conv2D(32, (3, 3), activation='relu', input_shape=(28, 28, 1)),\n",
        "    layers.MaxPooling2D((2, 2)),\n",
        "    layers.Conv2D(64, (3, 3), activation='relu'),\n",
        "    layers.MaxPooling2D((2, 2)),\n",
        "    layers.Conv2D(64, (3, 3), activation='relu'),\n",
        "    layers.Flatten(),\n",
        "    layers.Dense(64, activation='relu'),\n",
        "    layers.Dense(10, activation='softmax')\n",
        "])\n",
        "\n",
        "# Compilar o modelo\n",
        "model.compile(optimizer='adam',\n",
        "              loss='sparse_categorical_crossentropy',\n",
        "              metrics=['accuracy'])\n",
        "\n",
        "# Treinnar o modelo\n",
        "model.fit(train_images, train_labels, epochs=5, batch_size=64, validation_data=(test_images, test_labels))"
      ]
    },
    {
      "cell_type": "code",
      "source": [
        "model.save('/content/modelo_mnist.h5')"
      ],
      "metadata": {
        "colab": {
          "base_uri": "https://localhost:8080/"
        },
        "id": "V-6PvS377BIF",
        "outputId": "309c94b0-739e-406b-f164-feb5c9d34391"
      },
      "execution_count": 4,
      "outputs": [
        {
          "output_type": "stream",
          "name": "stderr",
          "text": [
            "/usr/local/lib/python3.10/dist-packages/keras/src/engine/training.py:3103: UserWarning: You are saving your model as an HDF5 file via `model.save()`. This file format is considered legacy. We recommend using instead the native Keras format, e.g. `model.save('my_model.keras')`.\n",
            "  saving_api.save_model(\n"
          ]
        }
      ]
    },
    {
      "cell_type": "code",
      "source": [
        "import tensorflow as tf\n",
        "import numpy as np\n",
        "from tensorflow.keras.preprocessing import image\n",
        "import requests\n",
        "from io import BytesIO\n",
        "from PIL import Image\n",
        "model = tf.keras.models.load_model('/content/modelo_mnist.h5')\n",
        "\n",
        "# URL da imagem\n",
        "image_url = 'https://ae03.alicdn.com/kf/Hef69ad6bbde84bb3ae35b00569854206R.jpg_640x640q90.jpg'\n",
        "\n",
        "# Função para baixar e processar a imagem\n",
        "def download_and_process_image(image_url):\n",
        "    try:\n",
        "        response = requests.get(image_url)\n",
        "        response.raise_for_status()  # Verifica se o download foi bem-sucedido\n",
        "        img = Image.open(BytesIO(response.content))\n",
        "        img = img.convert(\"L\")  # Converte a imagem para escala de cinza\n",
        "        img = img.resize((28, 28))  # Redimensiona a imagem para 28x28\n",
        "        img_array = image.img_to_array(img)\n",
        "        img_array = np.expand_dims(img_array, axis=-1)  # Adiciona uma dimensão para os canais de cor\n",
        "        img_array = np.expand_dims(img_array, axis=0)  # Adiciona uma dimensão para o lote\n",
        "        img_array /= 255.0  # Normalização\n",
        "\n",
        "        return img_array\n",
        "    except requests.exceptions.RequestException as e:\n",
        "        print(f\"Erro ao baixar a imagem: {e}\")\n",
        "    except UnidentifiedImageError:\n",
        "        print(f\"Erro ao identificar a imagem: {image_url}\")\n",
        "    except Exception as e:\n",
        "        print(f\"Erro ao processar a imagem: {e}\")\n",
        "    return None\n",
        "\n",
        "# Processar a imagem\n",
        "processed_image = download_and_process_image(image_url)\n",
        "\n",
        "# Verificar se a imagem foi processada corretamente\n",
        "if processed_image is not None:\n",
        "    # Fazer a previsão\n",
        "    prediction = model.predict(processed_image)\n",
        "    predicted_class = np.argmax(prediction)\n",
        "\n",
        "    # Mapear o número da classe para o nome da classe\n",
        "    class_names = ['0', '1', '2', '3', '4', '5', '6', '7', '8', '9']\n",
        "    predicted_label = class_names[predicted_class]\n",
        "\n",
        "    print('Predicted class:', predicted_label)\n",
        "else:\n",
        "    print(\"Falha no processamento da imagem.\")"
      ],
      "metadata": {
        "colab": {
          "base_uri": "https://localhost:8080/"
        },
        "id": "RyKUXiFg5nwU",
        "outputId": "a4b852d2-6bc3-41ad-ee7c-18eff466eddc"
      },
      "execution_count": 8,
      "outputs": [
        {
          "output_type": "stream",
          "name": "stdout",
          "text": [
            "1/1 [==============================] - 0s 81ms/step\n",
            "Predicted class: 2\n"
          ]
        }
      ]
    }
  ]
}