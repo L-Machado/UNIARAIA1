{
  "nbformat": 4,
  "nbformat_minor": 0,
  "metadata": {
    "colab": {
      "provenance": [],
      "authorship_tag": "ABX9TyMwU03rYKbHRCXOY3JxaeHN",
      "include_colab_link": true
    },
    "kernelspec": {
      "name": "python3",
      "display_name": "Python 3"
    },
    "language_info": {
      "name": "python"
    }
  },
  "cells": [
    {
      "cell_type": "markdown",
      "metadata": {
        "id": "view-in-github",
        "colab_type": "text"
      },
      "source": [
        "<a href=\"https://colab.research.google.com/github/L-Machado/UNIARAIA1/blob/main/BuscaGulosa.ipynb\" target=\"_parent\"><img src=\"https://colab.research.google.com/assets/colab-badge.svg\" alt=\"Open In Colab\"/></a>"
      ]
    },
    {
      "cell_type": "code",
      "execution_count": 1,
      "metadata": {
        "id": "fMFA_QimgU1U"
      },
      "outputs": [],
      "source": [
        "import heapq"
      ]
    },
    {
      "cell_type": "code",
      "source": [
        "def greedy_search(graph, start, goal):\n",
        "    visited = set()\n",
        "    priority_queue = [(0, start)]  # Inicializa a fila de prioridade com o nó inicial e custo zero\n",
        "    while priority_queue:\n",
        "        cost, current_node = heapq.heappop(priority_queue)  # Remove o nó com o menor custo da fila\n",
        "        if current_node == goal:\n",
        "            return cost  # Retorna o custo acumulado se o objetivo for alcançado\n",
        "        if current_node not in visited:\n",
        "            visited.add(current_node)\n",
        "            for neighbor, neighbor_cost in graph[current_node].items():\n",
        "                if neighbor not in visited:\n",
        "                    heapq.heappush(priority_queue, (cost + neighbor_cost, neighbor))  # Adiciona vizinhos à fila de prioridade\n",
        "    return float('inf')  # Retorna infinito se o objetivo não for alcançado"
      ],
      "metadata": {
        "id": "jH98jYpBgX_f"
      },
      "execution_count": 2,
      "outputs": []
    },
    {
      "cell_type": "code",
      "source": [
        "graph = {\n",
        "    'A': {'B': 5, 'C': 3, 'D': 7},\n",
        "    'B': {'A': 5, 'D': 2, 'E': 4},\n",
        "    'C': {'A': 3, 'D': 8, 'F': 6},\n",
        "    'D': {'A': 7, 'B': 2, 'C': 8, 'E': 3, 'F': 9},\n",
        "    'E': {'B': 4, 'D': 3, 'G': 5},\n",
        "    'F': {'C': 6, 'D': 9, 'G': 7},\n",
        "    'G': {'E': 5, 'F': 7}\n",
        "}\n"
      ],
      "metadata": {
        "id": "MyLqs5Aughww"
      },
      "execution_count": 3,
      "outputs": []
    },
    {
      "cell_type": "code",
      "source": [
        "start_node = 'A'\n",
        "goal_node = 'G'\n",
        "\n",
        "shortest_path_cost = greedy_search(graph, start_node, goal_node)\n",
        "print(\"O custo do caminho mais curto de\", start_node, \"para\", goal_node, \"é:\", shortest_path_cost)"
      ],
      "metadata": {
        "colab": {
          "base_uri": "https://localhost:8080/"
        },
        "id": "EDkOc_w6gmhE",
        "outputId": "319a8aae-b391-4b01-8578-e98de3c5f41a"
      },
      "execution_count": 4,
      "outputs": [
        {
          "output_type": "stream",
          "name": "stdout",
          "text": [
            "O custo do caminho mais curto de A para G é: 14\n"
          ]
        }
      ]
    }
  ]
}